{
 "cells": [
  {
   "cell_type": "code",
   "execution_count": 40,
   "metadata": {},
   "outputs": [],
   "source": [
    "from llama_index.embeddings.huggingface import HuggingFaceEmbedding\n",
    "import pandas as pd\n",
    "from pickle import dump, load"
   ]
  },
  {
   "cell_type": "code",
   "execution_count": 41,
   "metadata": {},
   "outputs": [],
   "source": [
    "embed_model = HuggingFaceEmbedding(model_name=\"BAAI/bge-small-en-v1.5\")"
   ]
  },
  {
   "cell_type": "code",
   "execution_count": 42,
   "metadata": {},
   "outputs": [
    {
     "data": {
      "text/html": [
       "<div>\n",
       "<style scoped>\n",
       "    .dataframe tbody tr th:only-of-type {\n",
       "        vertical-align: middle;\n",
       "    }\n",
       "\n",
       "    .dataframe tbody tr th {\n",
       "        vertical-align: top;\n",
       "    }\n",
       "\n",
       "    .dataframe thead th {\n",
       "        text-align: right;\n",
       "    }\n",
       "</style>\n",
       "<table border=\"1\" class=\"dataframe\">\n",
       "  <thead>\n",
       "    <tr style=\"text-align: right;\">\n",
       "      <th></th>\n",
       "      <th>word</th>\n",
       "      <th>embedding</th>\n",
       "    </tr>\n",
       "  </thead>\n",
       "  <tbody>\n",
       "  </tbody>\n",
       "</table>\n",
       "</div>"
      ],
      "text/plain": [
       "Empty DataFrame\n",
       "Columns: [word, embedding]\n",
       "Index: []"
      ]
     },
     "execution_count": 42,
     "metadata": {},
     "output_type": "execute_result"
    }
   ],
   "source": [
    "df = pd.DataFrame(columns=['word', 'embedding'])"
   ]
  },
  {
   "cell_type": "code",
   "execution_count": 43,
   "metadata": {},
   "outputs": [
    {
     "name": "stdout",
     "output_type": "stream",
     "text": [
      "['taking', 'takingly', 'takingness', 'takings', 'takins', 'takyr', 'takitumu', 'takkanah', 'takosis', 'takrouri', 'takt', 'taku', 'tal', 'tala', 'talabon', 'talahib', 'talaing', 'talayot', 'talayoti', 'talaje', 'talak', 'talalgia', 'talamanca', 'talamancan', 'talanton', 'talao', 'talapoin', 'talapoins', 'talar', 'talari', 'talaria', 'talaric', 'talars', 'talas', 'talbot', 'talbotype', 'talbotypist', 'talc', 'talced', 'talcer', 'talcher', 'talcing', 'talck', 'talcked', 'talcky', 'talcking', 'talclike', 'talcochlorite', 'talcoid', 'talcomicaceous', 'talcose', 'talcous', 'talcs', 'talcum', 'talcums', 'tald', 'tale', 'talebearer', 'talebearers', 'talebearing', 'talebook', 'talecarrier', 'talecarrying', 'taled', 'taleful', 'talegalla', 'talegallinae', 'talegallus', 'taleysim', 'talemaster', 'talemonger', 'talemongering', 'talent', 'talented', 'talenter', 'talenting', 'talentless', 'talents', 'talepyet', 'taler', 'talers', 'tales', 'talesman', 'talesmen', 'taleteller', 'taletelling', 'talewise', 'tali', 'taliacotian', 'taliage', 'taliation', 'taliera', 'taligrade', 'talinum', 'talio', 'talion', 'talionic']\n"
     ]
    }
   ],
   "source": [
    "with open(\"../data/raw/dictionary_subset.txt\", \"r\") as f:\n",
    "    words = f.read().splitlines()\n",
    "\n",
    "print(words)\n",
    "\n",
    "for word in words:\n",
    "    df_row = pd.DataFrame([[word, embed_model.get_text_embedding(word)]], columns=['word', 'embedding'])\n",
    "    df = pd.concat([df, df_row], ignore_index=True)"
   ]
  },
  {
   "cell_type": "code",
   "execution_count": 44,
   "metadata": {},
   "outputs": [],
   "source": [
    "dump(df, open(\"../data/processed/embeddings.pkl\", \"wb\"))"
   ]
  }
 ],
 "metadata": {
  "kernelspec": {
   "display_name": ".venv",
   "language": "python",
   "name": "python3"
  },
  "language_info": {
   "codemirror_mode": {
    "name": "ipython",
    "version": 3
   },
   "file_extension": ".py",
   "mimetype": "text/x-python",
   "name": "python",
   "nbconvert_exporter": "python",
   "pygments_lexer": "ipython3",
   "version": "3.12.4"
  }
 },
 "nbformat": 4,
 "nbformat_minor": 2
}
